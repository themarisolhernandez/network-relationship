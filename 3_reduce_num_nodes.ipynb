{
 "cells": [
  {
   "cell_type": "code",
   "execution_count": 22,
   "id": "00c572a3",
   "metadata": {},
   "outputs": [],
   "source": [
    "import logging\n",
    "import pandas as pd\n",
    "import numpy as np"
   ]
  },
  {
   "cell_type": "code",
   "execution_count": 23,
   "id": "a10bd883",
   "metadata": {},
   "outputs": [],
   "source": [
    "# ===== START LOGGER =====\n",
    "logger = logging.getLogger(__name__)\n",
    "root_logger = logging.getLogger()\n",
    "root_logger.setLevel(logging.INFO)\n",
    "sh = logging.StreamHandler()\n",
    "formatter = logging.Formatter(\"%(asctime)s - %(name)s - %(levelname)s - %(message)s\")\n",
    "sh.setFormatter(formatter)\n",
    "root_logger.addHandler(sh)"
   ]
  },
  {
   "cell_type": "code",
   "execution_count": 24,
   "id": "3a01dc8f",
   "metadata": {},
   "outputs": [],
   "source": [
    "\n",
    "network_df = pd.read_csv(\"outputs/network_df.csv\", index_col=0)\n",
    "network_df[\"citations\"] = network_df[\"citations\"].fillna(\"\")\n",
    "network_df[\"cited_by\"] = network_df[\"cited_by\"].fillna(\"\")\n",
    "\n",
    "network_df_sm = network_df[\n",
    "    (network_df[\"cited_by\"] != \"\") | (network_df[\"citations\"] != \"\")\n",
    "]\n",
    "old_indices = [str(i) for i in network_df_sm.index]\n",
    "for i, row in network_df_sm.iterrows():\n",
    "    rowloc = row.name\n",
    "    network_df_sm.loc[rowloc, \"cited_by\"] = \",\".join(\n",
    "        [\n",
    "            str(old_indices.index(j))\n",
    "            for j in network_df_sm.loc[rowloc, \"cited_by\"].split(\",\")\n",
    "            if len(j) > 0\n",
    "        ]\n",
    "    )\n",
    "    network_df_sm.loc[rowloc, \"citations\"] = \",\".join(\n",
    "        [\n",
    "            str(old_indices.index(j))\n",
    "            for j in network_df_sm.loc[rowloc, \"citations\"].split(\",\")\n",
    "            if len(j) > 0\n",
    "        ]\n",
    "    )"
   ]
  },
  {
   "cell_type": "code",
   "execution_count": 25,
   "id": "01405742",
   "metadata": {},
   "outputs": [],
   "source": [
    "network_df_sm.reset_index(drop=True, inplace=True)\n",
    "network_df_sm.to_csv(\"outputs/network_df_sm.csv\")"
   ]
  }
 ],
 "metadata": {
  "kernelspec": {
   "display_name": "Python 3",
   "language": "python",
   "name": "python3"
  },
  "language_info": {
   "codemirror_mode": {
    "name": "ipython",
    "version": 3
   },
   "file_extension": ".py",
   "mimetype": "text/x-python",
   "name": "python",
   "nbconvert_exporter": "python",
   "pygments_lexer": "ipython3",
   "version": "3.8.8"
  }
 },
 "nbformat": 4,
 "nbformat_minor": 5
}
